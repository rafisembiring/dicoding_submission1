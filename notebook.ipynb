{
  "cells": [
    {
      "cell_type": "markdown",
      "metadata": {
        "id": "H9wADwK78DCz"
      },
      "source": [
        "# Proyek Analisis Data: Bike Sharing\n",
        "- **Nama:** Mohammad Rafi Habibi Sembiring\n",
        "- **Email:** rafisembiring97@gmail.com\n",
        "- **ID Dicoding:** rafisembiring"
      ]
    },
    {
      "cell_type": "markdown",
      "metadata": {
        "id": "eE0raob58DC0"
      },
      "source": [
        "## Menentukan Pertanyaan Bisnis"
      ]
    },
    {
      "cell_type": "markdown",
      "metadata": {
        "id": "GmQeQ5YF8DC0"
      },
      "source": [
        "- **Bagaimana tren penggunaan sepeda berdasarkan musim dan cuaca?**\n",
        "- **Jam berapa dan hari apa penyewaan sepeda paling ramai?**"
      ]
    },
    {
      "cell_type": "markdown",
      "metadata": {
        "id": "H-z4QGlO8DC1"
      },
      "source": [
        "## Import Semua Packages/Library yang Digunakan"
      ]
    },
    {
      "cell_type": "code",
      "execution_count": null,
      "metadata": {
        "id": "FVYwaObI8DC1"
      },
      "outputs": [],
      "source": [
        "import pandas as pd\n",
        "import numpy as np\n",
        "import matplotlib.pyplot as plt\n",
        "import seaborn as sns\n",
        "import streamlit as st"
      ]
    },
    {
      "cell_type": "markdown",
      "metadata": {
        "id": "h_Sh51Xy8DC1"
      },
      "source": [
        "## Data Wrangling"
      ]
    },
    {
      "cell_type": "markdown",
      "metadata": {
        "id": "sXU2GBYu8DC1"
      },
      "source": [
        "### Gathering Data"
      ]
    },
    {
      "cell_type": "code",
      "execution_count": null,
      "metadata": {
        "colab": {
          "base_uri": "https://localhost:8080/"
        },
        "id": "zjCBk1BI8DC1",
        "outputId": "b3f63368-86ff-4a84-b169-a9c514272e09"
      },
      "outputs": [],
      "source": [
        "day_df = pd.read_csv(\"data/day.csv\")\n",
        "hour_df = pd.read_csv(\"data/hour.csv\")\n",
        "\n",
        "print(day_df.head())\n",
        "print(hour_df.head())"
      ]
    },
    {
      "cell_type": "markdown",
      "metadata": {
        "id": "MMi6xGaDkbCi"
      },
      "source": [
        "**Insight:**\n",
        "- Dataset terdiri dari data harian dan per jam penyewaan sepeda\n",
        "- Terdapat informasi tentang cuaca, musim, hari kerja, dan jumlah penyewa"
      ]
    },
    {
      "cell_type": "markdown",
      "metadata": {
        "id": "FHSiqaZp8DC1"
      },
      "source": [
        "### Assessing Data"
      ]
    },
    {
      "cell_type": "code",
      "execution_count": null,
      "metadata": {
        "colab": {
          "base_uri": "https://localhost:8080/"
        },
        "id": "ax-3tEjc9Cj1",
        "outputId": "42a5a585-0975-457a-d6f0-6e17ecd306ee"
      },
      "outputs": [],
      "source": [
        "# Menilai missing values dalam dataset\n",
        "print(\"Missing Values in day dataset:\")\n",
        "print(day_df.isnull().sum())\n",
        "\n",
        "print(\"\\nMissing Values in hour dataset:\")\n",
        "print(hour_df.isnull().sum())\n",
        "\n",
        "# Menilai data duplikat dalam dataset\n",
        "print(\"\\nDuplicate Values in day dataset:\", day_df.duplicated().sum())\n",
        "print(\"Duplicate Values in hour dataset:\", hour_df.duplicated().sum())\n",
        "\n",
        "# Menampilkan ringkasan statistik dataset\n",
        "print(\"\\nSummary Statistics for day_df:\")\n",
        "print(day_df.describe())\n",
        "\n",
        "print(\"\\nSummary Statistics for hour_df:\")\n",
        "print(hour_df.describe())\n",
        "\n",
        "# Menampilkan tipe data untuk setiap kolom\n",
        "print(\"\\nData Types in day_df:\")\n",
        "print(day_df.dtypes)\n",
        "\n",
        "print(\"\\nData Types in hour_df:\")\n",
        "print(hour_df.dtypes)"
      ]
    },
    {
      "cell_type": "markdown",
      "metadata": {
        "id": "7dtxhAPrkhPL"
      },
      "source": [
        "**Insight:**\n",
        "- Tidak terdapat missing values dalam dataset\n",
        "- Semua kolom memiliki tipe data yang sesuai"
      ]
    },
    {
      "cell_type": "markdown",
      "metadata": {
        "id": "EhN5R4hr8DC1"
      },
      "source": [
        "### Cleaning Data"
      ]
    },
    {
      "cell_type": "code",
      "execution_count": null,
      "metadata": {
        "id": "jVnYpprE9Evz"
      },
      "outputs": [],
      "source": [
        "# Menghapus data duplikat jika ada\n",
        "day_df = day_df.drop_duplicates()\n",
        "hour_df = hour_df.drop_duplicates()\n",
        "\n",
        "# Mengisi missing values dengan metode forward fill (ffill)\n",
        "day_df = day_df.ffill()\n",
        "hour_df = hour_df.ffill()\n",
        "\n",
        "# Menghapus nilai yang tidak valid (angka negatif pada kolom numerik)\n",
        "numeric_cols = day_df.select_dtypes(include=[np.number]).columns\n",
        "for col in numeric_cols:\n",
        "    day_df = day_df[day_df[col] >= 0]\n",
        "\n",
        "numeric_cols = hour_df.select_dtypes(include=[np.number]).columns\n",
        "for col in numeric_cols:\n",
        "    hour_df = hour_df[hour_df[col] >= 0]"
      ]
    },
    {
      "cell_type": "markdown",
      "metadata": {
        "id": "Q_5ejIqckiSP"
      },
      "source": [
        "**Insight:**\n",
        "- Data cleaning selesai. Data siap digunakan untuk analisis."
      ]
    },
    {
      "cell_type": "markdown",
      "metadata": {
        "id": "gp-Y6wU38DC1"
      },
      "source": [
        "## Exploratory Data Analysis (EDA)"
      ]
    },
    {
      "cell_type": "markdown",
      "metadata": {
        "id": "MW7WF2kr8DC1"
      },
      "source": [
        "### Explore ..."
      ]
    },
    {
      "cell_type": "code",
      "execution_count": null,
      "metadata": {
        "colab": {
          "base_uri": "https://localhost:8080/",
          "height": 487
        },
        "id": "e9CQCZjk8DC2",
        "outputId": "9f440495-09fa-4966-9f8e-f3dfadc2f251"
      },
      "outputs": [],
      "source": [
        "# Tren Penggunaan Sepeda Berdasarkan Musim dan Cuaca\n",
        "df_season_weather = day_df.groupby([\"season\", \"weathersit\"])[\"cnt\"].agg([\"mean\", \"sum\"]).reset_index()\n",
        "df_season_weather.columns = [\"season\", \"weather_condition\", \"avg_rentals\", \"total_rentals\"]\n",
        "print(df_season_weather)\n",
        "\n",
        "# Jam Berapa dan Hari apa Penggunaan Sepeda Paling Ramai\n",
        "df_hour_day = hour_df.groupby([\"hr\", \"weekday\"])[\"cnt\"].agg([\"mean\", \"sum\"]).reset_index()\n",
        "df_hour_day.columns = [\"hour\", \"weekday\", \"avg_rentals\", \"total_rentals\"]\n",
        "print(df_hour_day)"
      ]
    },
    {
      "cell_type": "markdown",
      "metadata": {
        "id": "th_Lzl2Fkj9O"
      },
      "source": [
        "**Insight:**\n",
        "- Distribusi jumlah penyewaan cenderung normal dan sedikit skew ke kanan\n",
        "- Ada beberapa hari dengan jumlah penyewaan yang sangat tinggi"
      ]
    },
    {
      "cell_type": "markdown",
      "metadata": {
        "id": "zsyZjqak8DC2"
      },
      "source": [
        "## Visualization & Explanatory Analysis"
      ]
    },
    {
      "cell_type": "markdown",
      "metadata": {
        "id": "HZxOiQ6n8DC2"
      },
      "source": [
        "### Pertanyaan 1: Bagaimana tren penggunaan sepeda berdasarkan musim dan cuaca"
      ]
    },
    {
      "cell_type": "code",
      "execution_count": null,
      "metadata": {
        "colab": {
          "base_uri": "https://localhost:8080/",
          "height": 839
        },
        "id": "1swJUdAD8DC2",
        "outputId": "9595c4e9-c334-42a8-8ea3-482ef3520583"
      },
      "outputs": [],
      "source": [
        "# Rata-rata Penyewaan Sepeda Berdasarkan Musim dan Cuaca\n",
        "plt.figure(figsize=(10, 6))\n",
        "sns.barplot(x=\"season\", y=\"avg_rentals\", hue=\"weather_condition\", data=df_season_weather, palette=\"Set2\")\n",
        "plt.xticks(ticks=[0,1,2,3], labels=[\"Spring\", \"Summer\", \"Fall\", \"Winter\"])\n",
        "plt.xlabel(\"Musim\")\n",
        "plt.ylabel(\"Rata-rata Penyewaan Sepeda\")\n",
        "plt.title(\"Rata-rata Penyewaan Sepeda Berdasarkan Musim dan Cuaca\")\n",
        "plt.legend(title=\"Kondisi Cuaca\", labels=[\"Cerah\", \"Mendung\", \"Hujan/Salju Ringan\", \"Hujan Deras\"])\n",
        "plt.show()"
      ]
    },
    {
      "cell_type": "markdown",
      "metadata": {
        "id": "DgHI7CiU8DC2"
      },
      "source": [
        "### Pertanyaan 2: Jam berapa dan hari apa penyewaan sepeda paling ramai?"
      ]
    },
    {
      "cell_type": "code",
      "execution_count": null,
      "metadata": {
        "colab": {
          "base_uri": "https://localhost:8080/",
          "height": 866
        },
        "id": "Go0lCsvO8DC2",
        "outputId": "2ec727b5-d47c-4932-8d12-118c3eac61b7"
      },
      "outputs": [],
      "source": [
        "# Tren Penyewaan Sepeda Berdasarkan Jam\n",
        "plt.figure(figsize=(12, 6))\n",
        "sns.lineplot(x=\"hour\", y=\"avg_rentals\", data=df_hour_day, marker=\"o\", color=\"blue\")\n",
        "plt.xlabel(\"Jam dalam Sehari\")\n",
        "plt.ylabel(\"Rata-rata Penyewaan Sepeda\")\n",
        "plt.title(\"Tren Penyewaan Sepeda Berdasarkan Jam\")\n",
        "plt.xticks(ticks=range(0, 24))\n",
        "plt.grid()\n",
        "plt.show()\n",
        "\n",
        "# Tren Penyewaan Sepeda Berdasarkan Hari\n",
        "plt.figure(figsize=(10, 5))\n",
        "sns.barplot(x=\"weekday\", y=\"avg_rentals\", data=df_hour_day, palette=\"coolwarm\")\n",
        "plt.xticks(ticks=range(7), labels=[\"Senin\", \"Selasa\", \"Rabu\", \"Kamis\", \"Jumat\", \"Sabtu\", \"Minggu\"])\n",
        "plt.xlabel(\"Hari dalam Seminggu\")\n",
        "plt.ylabel(\"Rata-rata Penyewaan Sepeda\")\n",
        "plt.title(\"Rata-rata Penyewaan Sepeda Berdasarkan Hari\")\n",
        "plt.show()"
      ]
    },
    {
      "cell_type": "markdown",
      "metadata": {
        "id": "_0-36BDLklRg"
      },
      "source": [
        "**Insight:**\n",
        "- Musim tertentu menunjukkan peningkatan signifikan dalam jumlah penyewaan sepeda.\n",
        "- Cuaca buruk cenderung mengurangi jumlah penyewaan secara drastis.\n",
        "- Puncak penyewaan terjadi pada pagi dan sore hari, menunjukkan penggunaan utama untuk commuting.\n",
        "- Akhir pekan cenderung memiliki penyewaan lebih tinggi dibandingkan hari kerja."
      ]
    },
    {
      "cell_type": "markdown",
      "metadata": {
        "id": "9y4VUsmcYNZ5"
      },
      "source": [
        "## Analisis Lanjutan (Opsional)"
      ]
    },
    {
      "cell_type": "code",
      "execution_count": null,
      "metadata": {
        "colab": {
          "base_uri": "https://localhost:8080/",
          "height": 428
        },
        "id": "iWhnzsJGYUCO",
        "outputId": "39890827-bbfb-46c8-e299-957ad5f25795"
      },
      "outputs": [],
      "source": [
        "# Menampilkan distribusi penyewaan sepeda berdasarkan musim\n",
        "plt.figure(figsize=(10, 5))\n",
        "sns.boxplot(x=day_df['season'], y=day_df['cnt'], palette='Set2')\n",
        "plt.xlabel(\"Season\")\n",
        "plt.ylabel(\"Total Rentals\")\n",
        "plt.title(\"Distribusi Penyewaan Sepeda Berdasarkan Musim\")\n",
        "plt.show()"
      ]
    },
    {
      "cell_type": "markdown",
      "metadata": {},
      "source": [
        "**Insight**\n",
        "- Musim panas dan gugur memiliki distribusi penyewaan yang lebih tinggi dibandingkan musim dingin.\n",
        "- Penyebaran data menunjukkan adanya variasi jumlah penyewaan dalam setiap musim."
      ]
    },
    {
      "cell_type": "markdown",
      "metadata": {
        "id": "_WeHlCeX8DC2"
      },
      "source": [
        "## Conclusion"
      ]
    },
    {
      "cell_type": "markdown",
      "metadata": {
        "id": "ZTcyR48Y8DC2"
      },
      "source": [
        "1. **Tren Musim dan Cuaca**\n",
        "   - Penyewaan sepeda **cenderung lebih tinggi pada musim panas dan gugur**.\n",
        "   - Cuaca buruk seperti hujan deras atau salju menyebabkan penurunan jumlah penyewaan.\n",
        "\n",
        "2. **Jam Sibuk Penyewaan**\n",
        "   - Penyewaan sepeda **paling ramai pada jam 7-9 pagi dan 5-7 sore**, bertepatan dengan jam kerja.\n",
        "   - Penyewaan lebih sedikit pada tengah malam hingga subuh.\n",
        "\n",
        "3. **Hari Ramai Penyewaan**\n",
        "   - Hari kerja memiliki pola penyewaan yang lebih tinggi **pada jam sibuk**.\n",
        "   - Akhir pekan mungkin memiliki pola penyewaan yang lebih merata sepanjang hari."
      ]
    }
  ],
  "metadata": {
    "colab": {
      "provenance": []
    },
    "kernelspec": {
      "display_name": "base",
      "language": "python",
      "name": "python3"
    },
    "language_info": {
      "codemirror_mode": {
        "name": "ipython",
        "version": 3
      },
      "file_extension": ".py",
      "mimetype": "text/x-python",
      "name": "python",
      "nbconvert_exporter": "python",
      "pygments_lexer": "ipython3",
      "version": "3.12.3"
    },
    "orig_nbformat": 4
  },
  "nbformat": 4,
  "nbformat_minor": 0
}
